{
  "metadata": {
    "kernelspec": {
      "name": "python",
      "display_name": "Python (Pyodide)",
      "language": "python"
    },
    "language_info": {
      "codemirror_mode": {
        "name": "python",
        "version": 3
      },
      "file_extension": ".py",
      "mimetype": "text/x-python",
      "name": "python",
      "nbconvert_exporter": "python",
      "pygments_lexer": "ipython3",
      "version": "3.8"
    }
  },
  "nbformat_minor": 4,
  "nbformat": 4,
  "cells": [
    {
      "cell_type": "code",
      "source": "import pandas as pd\nimport numpy as np\nimport matplotlib as mpl\nimport matplotlib.pyplot as plt\n%matplotlib inline\nimport seaborn as sns\nimport missingno as msno\nfrom scipy import stats",
      "metadata": {
        "id": "MnPRpyGqD99D",
        "execution": {
          "iopub.status.busy": "2022-09-09T03:49:20.543575Z",
          "iopub.execute_input": "2022-09-09T03:49:20.546781Z",
          "iopub.status.idle": "2022-09-09T03:49:21.883961Z",
          "shell.execute_reply.started": "2022-09-09T03:49:20.546624Z",
          "shell.execute_reply": "2022-09-09T03:49:21.882965Z"
        },
        "trusted": true
      },
      "execution_count": null,
      "outputs": []
    },
    {
      "cell_type": "code",
      "source": "train = pd.read_csv('../input/water-potability/water_potability.csv')",
      "metadata": {
        "id": "7-YYdfMYFFY0",
        "execution": {
          "iopub.status.busy": "2022-09-09T03:49:21.885836Z",
          "iopub.execute_input": "2022-09-09T03:49:21.88611Z",
          "iopub.status.idle": "2022-09-09T03:49:21.924046Z",
          "shell.execute_reply.started": "2022-09-09T03:49:21.886078Z",
          "shell.execute_reply": "2022-09-09T03:49:21.923075Z"
        },
        "trusted": true
      },
      "execution_count": null,
      "outputs": []
    },
    {
      "cell_type": "code",
      "source": "train",
      "metadata": {
        "id": "hpIImx8jFKjh",
        "outputId": "3563b2bf-9866-4d83-e597-314569c7c077",
        "execution": {
          "iopub.status.busy": "2022-09-09T03:49:21.925778Z",
          "iopub.execute_input": "2022-09-09T03:49:21.926255Z",
          "iopub.status.idle": "2022-09-09T03:49:21.961612Z",
          "shell.execute_reply.started": "2022-09-09T03:49:21.926217Z",
          "shell.execute_reply": "2022-09-09T03:49:21.960716Z"
        },
        "trusted": true
      },
      "execution_count": null,
      "outputs": []
    },
    {
      "cell_type": "code",
      "source": "train.info()",
      "metadata": {
        "id": "IQJeOTHOFbax",
        "outputId": "f3b66f49-0e4c-400f-b6ee-7d0e8679632d",
        "execution": {
          "iopub.status.busy": "2022-09-09T03:49:21.963564Z",
          "iopub.execute_input": "2022-09-09T03:49:21.963986Z",
          "iopub.status.idle": "2022-09-09T03:49:21.991476Z",
          "shell.execute_reply.started": "2022-09-09T03:49:21.963949Z",
          "shell.execute_reply": "2022-09-09T03:49:21.990736Z"
        },
        "trusted": true
      },
      "execution_count": null,
      "outputs": []
    },
    {
      "cell_type": "code",
      "source": "train.describe().style.background_gradient(cmap = \"Blues\")",
      "metadata": {
        "id": "KCOQP2rGFqiw",
        "outputId": "73645764-f076-4b09-f40a-dd6894171e7a",
        "execution": {
          "iopub.status.busy": "2022-09-09T03:49:21.992786Z",
          "iopub.execute_input": "2022-09-09T03:49:21.993213Z",
          "iopub.status.idle": "2022-09-09T03:49:22.117086Z",
          "shell.execute_reply.started": "2022-09-09T03:49:21.993177Z",
          "shell.execute_reply": "2022-09-09T03:49:22.116048Z"
        },
        "trusted": true
      },
      "execution_count": null,
      "outputs": []
    },
    {
      "cell_type": "code",
      "source": "train.duplicated().sum()",
      "metadata": {
        "id": "9eUd0YWFs37_",
        "outputId": "f30fc9f8-9e3e-4fc4-bb37-0aa41ffc53b1",
        "execution": {
          "iopub.status.busy": "2022-09-09T03:49:22.119095Z",
          "iopub.execute_input": "2022-09-09T03:49:22.119444Z",
          "iopub.status.idle": "2022-09-09T03:49:22.1352Z",
          "shell.execute_reply.started": "2022-09-09T03:49:22.119395Z",
          "shell.execute_reply": "2022-09-09T03:49:22.13408Z"
        },
        "trusted": true
      },
      "execution_count": null,
      "outputs": []
    },
    {
      "cell_type": "code",
      "source": "msno.bar(train, figsize = (16,5),color = \"#483D8B\")\nplt.show()",
      "metadata": {
        "id": "tHLd6IxXGElT",
        "outputId": "e9467963-d367-422d-bf6a-6db065ecbb2e",
        "execution": {
          "iopub.status.busy": "2022-09-09T03:49:22.137681Z",
          "iopub.execute_input": "2022-09-09T03:49:22.137985Z",
          "iopub.status.idle": "2022-09-09T03:49:22.959364Z",
          "shell.execute_reply.started": "2022-09-09T03:49:22.13794Z",
          "shell.execute_reply": "2022-09-09T03:49:22.958322Z"
        },
        "trusted": true
      },
      "execution_count": null,
      "outputs": []
    },
    {
      "cell_type": "code",
      "source": "for column_name in train.columns:\n    unique_values = len(train[column_name].unique())\n    print(\"Feature '{column_name}' has '{unique_values}' unique values\".format(column_name = column_name,\n                                                                                         unique_values=unique_values))",
      "metadata": {
        "id": "mNMVYUTCtZuv",
        "outputId": "05145b64-9348-444a-9440-1ce12b9a8eca",
        "execution": {
          "iopub.status.busy": "2022-09-09T03:49:22.960945Z",
          "iopub.execute_input": "2022-09-09T03:49:22.961491Z",
          "iopub.status.idle": "2022-09-09T03:49:22.97407Z",
          "shell.execute_reply.started": "2022-09-09T03:49:22.961428Z",
          "shell.execute_reply": "2022-09-09T03:49:22.973327Z"
        },
        "trusted": true
      },
      "execution_count": null,
      "outputs": []
    },
    {
      "cell_type": "code",
      "source": "train.columns",
      "metadata": {
        "id": "o-zTdgdWt0KU",
        "outputId": "8bbf96d9-54e4-4e77-823b-74c08917453f",
        "execution": {
          "iopub.status.busy": "2022-09-09T03:49:22.975243Z",
          "iopub.execute_input": "2022-09-09T03:49:22.976145Z",
          "iopub.status.idle": "2022-09-09T03:49:22.982153Z",
          "shell.execute_reply.started": "2022-09-09T03:49:22.976101Z",
          "shell.execute_reply": "2022-09-09T03:49:22.98152Z"
        },
        "trusted": true
      },
      "execution_count": null,
      "outputs": []
    },
    {
      "cell_type": "code",
      "source": "numeric_features=['ph', 'Hardness', 'Solids', 'Chloramines', 'Sulfate', 'Conductivity',\n       'Organic_carbon', 'Trihalomethanes', 'Turbidity']",
      "metadata": {
        "id": "2XqdTKBYtzAc",
        "execution": {
          "iopub.status.busy": "2022-09-09T03:49:22.985789Z",
          "iopub.execute_input": "2022-09-09T03:49:22.987662Z",
          "iopub.status.idle": "2022-09-09T03:49:22.994495Z",
          "shell.execute_reply.started": "2022-09-09T03:49:22.987601Z",
          "shell.execute_reply": "2022-09-09T03:49:22.993724Z"
        },
        "trusted": true
      },
      "execution_count": null,
      "outputs": []
    },
    {
      "cell_type": "code",
      "source": "import warnings\nwarnings.filterwarnings('ignore')\nfig,ax = plt.subplots(len(numeric_features),4,figsize=(30,20))\nfor index,i in enumerate(numeric_features):\n    sns.distplot(train[i],ax=ax[index,0],color='green')\n    sns.boxplot(train[i],ax=ax[index,1],color='yellow')\n    sns.violinplot(train[i],ax=ax[index,2],color='purple')\n    stats.probplot(train[i],plot=ax[index,3])\n    \nfig.tight_layout()\nfig.subplots_adjust(top=0.95)\nplt.suptitle(\"Visualizing continuous columns (train dataset)\",fontsize=30)",
      "metadata": {
        "id": "2LoTbtuEtt_e",
        "outputId": "c5ee7067-8fc3-4440-8136-ea80019355f9",
        "execution": {
          "iopub.status.busy": "2022-09-09T03:49:22.995753Z",
          "iopub.execute_input": "2022-09-09T03:49:22.996376Z",
          "iopub.status.idle": "2022-09-09T03:49:30.139697Z",
          "shell.execute_reply.started": "2022-09-09T03:49:22.996338Z",
          "shell.execute_reply": "2022-09-09T03:49:30.138572Z"
        },
        "trusted": true
      },
      "execution_count": null,
      "outputs": []
    },
    {
      "cell_type": "code",
      "source": "fig, ax1 = plt.subplots(figsize=(20,10))\ngraph = sns.countplot(ax=ax1,x = 'Potability' , data = train,palette='pastel')\ngraph.set_xticklabels(graph.get_xticklabels(),rotation=90)\nfor p in graph.patches:\n    height = p.get_height()\n    graph.text(p.get_x()+p.get_width()/2., height + 0.1,height ,ha=\"center\")",
      "metadata": {
        "id": "FTcpZCwxuyUq",
        "outputId": "3da15aee-3a46-420f-d4a6-08f3df987bae",
        "execution": {
          "iopub.status.busy": "2022-09-09T03:49:30.141359Z",
          "iopub.execute_input": "2022-09-09T03:49:30.14166Z",
          "iopub.status.idle": "2022-09-09T03:49:30.349564Z",
          "shell.execute_reply.started": "2022-09-09T03:49:30.141625Z",
          "shell.execute_reply": "2022-09-09T03:49:30.348521Z"
        },
        "trusted": true
      },
      "execution_count": null,
      "outputs": []
    },
    {
      "cell_type": "code",
      "source": "train.isnull().sum()",
      "metadata": {
        "id": "wSEHxz2TLvh0",
        "outputId": "895d31a3-5e2f-4d07-c7eb-4f8ea88b4850",
        "execution": {
          "iopub.status.busy": "2022-09-09T03:49:30.351511Z",
          "iopub.execute_input": "2022-09-09T03:49:30.352072Z",
          "iopub.status.idle": "2022-09-09T03:49:30.362015Z",
          "shell.execute_reply.started": "2022-09-09T03:49:30.35202Z",
          "shell.execute_reply": "2022-09-09T03:49:30.361156Z"
        },
        "trusted": true
      },
      "execution_count": null,
      "outputs": []
    },
    {
      "cell_type": "code",
      "source": "from sklearn.impute import KNNImputer",
      "metadata": {
        "id": "DAXeDcU0L9HM",
        "execution": {
          "iopub.status.busy": "2022-09-09T03:49:30.363125Z",
          "iopub.execute_input": "2022-09-09T03:49:30.363665Z",
          "iopub.status.idle": "2022-09-09T03:49:30.663664Z",
          "shell.execute_reply.started": "2022-09-09T03:49:30.363609Z",
          "shell.execute_reply": "2022-09-09T03:49:30.662301Z"
        },
        "trusted": true
      },
      "execution_count": null,
      "outputs": []
    },
    {
      "cell_type": "code",
      "source": "imputer = KNNImputer(n_neighbors=10, weights=\"uniform\")",
      "metadata": {
        "id": "B61v10BKOiel",
        "execution": {
          "iopub.status.busy": "2022-09-09T03:49:30.665136Z",
          "iopub.execute_input": "2022-09-09T03:49:30.665428Z",
          "iopub.status.idle": "2022-09-09T03:49:30.670693Z",
          "shell.execute_reply.started": "2022-09-09T03:49:30.665388Z",
          "shell.execute_reply": "2022-09-09T03:49:30.669642Z"
        },
        "trusted": true
      },
      "execution_count": null,
      "outputs": []
    },
    {
      "cell_type": "code",
      "source": "l=imputer.fit_transform(train)",
      "metadata": {
        "id": "5-wGIpeNO0bw",
        "execution": {
          "iopub.status.busy": "2022-09-09T03:49:30.672612Z",
          "iopub.execute_input": "2022-09-09T03:49:30.672985Z",
          "iopub.status.idle": "2022-09-09T03:49:31.101426Z",
          "shell.execute_reply.started": "2022-09-09T03:49:30.672933Z",
          "shell.execute_reply": "2022-09-09T03:49:31.100184Z"
        },
        "trusted": true
      },
      "execution_count": null,
      "outputs": []
    },
    {
      "cell_type": "code",
      "source": "train1=pd.DataFrame(l,columns=train.columns)",
      "metadata": {
        "id": "nvyFwOJcO4_Y",
        "execution": {
          "iopub.status.busy": "2022-09-09T03:49:31.102933Z",
          "iopub.execute_input": "2022-09-09T03:49:31.103228Z",
          "iopub.status.idle": "2022-09-09T03:49:31.108782Z",
          "shell.execute_reply.started": "2022-09-09T03:49:31.103192Z",
          "shell.execute_reply": "2022-09-09T03:49:31.107556Z"
        },
        "trusted": true
      },
      "execution_count": null,
      "outputs": []
    },
    {
      "cell_type": "code",
      "source": "train1",
      "metadata": {
        "id": "42vmkcAiQDwx",
        "outputId": "8c6ccd25-bc74-4b9f-84ad-18b3f3d40233",
        "execution": {
          "iopub.status.busy": "2022-09-09T03:49:31.110246Z",
          "iopub.execute_input": "2022-09-09T03:49:31.110548Z",
          "iopub.status.idle": "2022-09-09T03:49:31.143044Z",
          "shell.execute_reply.started": "2022-09-09T03:49:31.110512Z",
          "shell.execute_reply": "2022-09-09T03:49:31.142119Z"
        },
        "trusted": true
      },
      "execution_count": null,
      "outputs": []
    },
    {
      "cell_type": "code",
      "source": "train1.isnull().sum()",
      "metadata": {
        "id": "9OaKiTYBQboV",
        "outputId": "8af19366-7a07-46fc-e312-e760b313e3d1",
        "execution": {
          "iopub.status.busy": "2022-09-09T03:49:31.144749Z",
          "iopub.execute_input": "2022-09-09T03:49:31.145297Z",
          "iopub.status.idle": "2022-09-09T03:49:31.155047Z",
          "shell.execute_reply.started": "2022-09-09T03:49:31.145244Z",
          "shell.execute_reply": "2022-09-09T03:49:31.153866Z"
        },
        "trusted": true
      },
      "execution_count": null,
      "outputs": []
    },
    {
      "cell_type": "code",
      "source": "# Shapiro-Wilk Test\nfrom scipy.stats import shapiro\n# normality test\nfor feature in numeric_features:\n\tstat, p = shapiro(train1[feature])\n\tprint('Statistics=%.3f, p=%.3f' % (stat, p))\n\t# interpret\n\talpha = 0.05\n\tif p > alpha:\n\t\tprint(f'Sample looks Gaussian with {feature} (fail to reject H0)')\n\telse:\n\t\tprint(f'Sample does not look Gaussian with {feature} (reject H0)')",
      "metadata": {
        "id": "v86j4bs4v544",
        "outputId": "bf678113-ed2b-430d-9593-4dca0a9134dc",
        "execution": {
          "iopub.status.busy": "2022-09-09T03:49:31.156435Z",
          "iopub.execute_input": "2022-09-09T03:49:31.157176Z",
          "iopub.status.idle": "2022-09-09T03:49:31.172702Z",
          "shell.execute_reply.started": "2022-09-09T03:49:31.157127Z",
          "shell.execute_reply": "2022-09-09T03:49:31.171454Z"
        },
        "trusted": true
      },
      "execution_count": null,
      "outputs": []
    },
    {
      "cell_type": "code",
      "source": "from scipy.stats import mannwhitneyu\nfor feature in numeric_features:\n    stat, p = mannwhitneyu(train1['Potability'], train1[feature])\n    print('Statistics=%.3f, p=%.3f' % (stat, p))\n    alpha = 0.05\n    if p > alpha:\n\t\t    print('There are no significant differences (fail to reject H0)')\n    else:\n\t\t    print('The sample distributions are not equal (reject H0)')",
      "metadata": {
        "id": "ZSPXXBCxv57v",
        "outputId": "0fbd5810-b892-4d78-ba03-51a555834428",
        "execution": {
          "iopub.status.busy": "2022-09-09T03:49:31.174261Z",
          "iopub.execute_input": "2022-09-09T03:49:31.174568Z",
          "iopub.status.idle": "2022-09-09T03:49:31.230628Z",
          "shell.execute_reply.started": "2022-09-09T03:49:31.174532Z",
          "shell.execute_reply": "2022-09-09T03:49:31.229509Z"
        },
        "trusted": true
      },
      "execution_count": null,
      "outputs": []
    },
    {
      "cell_type": "code",
      "source": "correlation = train1.corr()\nprint(correlation['Potability'].sort_values(ascending = False),'\\n')",
      "metadata": {
        "id": "UWP_dzEtv5-x",
        "outputId": "7f2a21e9-33d5-47a4-9577-81a6bea8ba77",
        "execution": {
          "iopub.status.busy": "2022-09-09T03:49:31.232Z",
          "iopub.execute_input": "2022-09-09T03:49:31.232278Z",
          "iopub.status.idle": "2022-09-09T03:49:31.241363Z",
          "shell.execute_reply.started": "2022-09-09T03:49:31.232226Z",
          "shell.execute_reply": "2022-09-09T03:49:31.240494Z"
        },
        "trusted": true
      },
      "execution_count": null,
      "outputs": []
    },
    {
      "cell_type": "code",
      "source": "k= 18\ncols = correlation.nlargest(k,'Potability')['Potability'].index\nprint(cols)\ncm = np.corrcoef(train1[cols].values.T)\nmask = np.triu(np.ones_like(train1.corr()))\nf , ax = plt.subplots(figsize = (14,12))\nsns.heatmap(cm,mask=mask, vmax=.8, linewidths=0.01,square=True,annot=True,cmap='viridis',\n            linecolor=\"white\",xticklabels = cols.values ,annot_kws = {'size':12},yticklabels = cols.values)",
      "metadata": {
        "id": "N1C9Byerv6B-",
        "outputId": "998225d6-3e62-4b7f-f26f-f4c9c1b6475d",
        "execution": {
          "iopub.status.busy": "2022-09-09T03:49:31.24249Z",
          "iopub.execute_input": "2022-09-09T03:49:31.242803Z",
          "iopub.status.idle": "2022-09-09T03:49:31.913571Z",
          "shell.execute_reply.started": "2022-09-09T03:49:31.242766Z",
          "shell.execute_reply": "2022-09-09T03:49:31.912332Z"
        },
        "trusted": true
      },
      "execution_count": null,
      "outputs": []
    },
    {
      "cell_type": "code",
      "source": "from sklearn.neighbors import LocalOutlierFactor",
      "metadata": {
        "id": "vxaG8bnMQVWq",
        "execution": {
          "iopub.status.busy": "2022-09-09T03:49:31.915071Z",
          "iopub.execute_input": "2022-09-09T03:49:31.915735Z",
          "iopub.status.idle": "2022-09-09T03:49:31.920858Z",
          "shell.execute_reply.started": "2022-09-09T03:49:31.915689Z",
          "shell.execute_reply": "2022-09-09T03:49:31.91988Z"
        },
        "trusted": true
      },
      "execution_count": null,
      "outputs": []
    },
    {
      "cell_type": "code",
      "source": "clf = LocalOutlierFactor(n_neighbors=5, contamination='auto')\ny_pred = clf.fit_predict(train1) ",
      "metadata": {
        "id": "fT3VXCAdRRHP",
        "execution": {
          "iopub.status.busy": "2022-09-09T03:49:31.922339Z",
          "iopub.execute_input": "2022-09-09T03:49:31.923107Z",
          "iopub.status.idle": "2022-09-09T03:49:31.954907Z",
          "shell.execute_reply.started": "2022-09-09T03:49:31.923055Z",
          "shell.execute_reply": "2022-09-09T03:49:31.953781Z"
        },
        "trusted": true
      },
      "execution_count": null,
      "outputs": []
    },
    {
      "cell_type": "code",
      "source": "train1['Out']=y_pred",
      "metadata": {
        "id": "BX8magFjRVea",
        "execution": {
          "iopub.status.busy": "2022-09-09T03:49:31.958787Z",
          "iopub.execute_input": "2022-09-09T03:49:31.959444Z",
          "iopub.status.idle": "2022-09-09T03:49:31.965624Z",
          "shell.execute_reply.started": "2022-09-09T03:49:31.959393Z",
          "shell.execute_reply": "2022-09-09T03:49:31.96464Z"
        },
        "trusted": true
      },
      "execution_count": null,
      "outputs": []
    },
    {
      "cell_type": "code",
      "source": "Out=train[train1['Out']!=1]",
      "metadata": {
        "id": "W1iizpx0RbzW",
        "execution": {
          "iopub.status.busy": "2022-09-09T03:49:31.967484Z",
          "iopub.execute_input": "2022-09-09T03:49:31.967836Z",
          "iopub.status.idle": "2022-09-09T03:49:31.982113Z",
          "shell.execute_reply.started": "2022-09-09T03:49:31.967786Z",
          "shell.execute_reply": "2022-09-09T03:49:31.981012Z"
        },
        "trusted": true
      },
      "execution_count": null,
      "outputs": []
    },
    {
      "cell_type": "code",
      "source": "Out.shape",
      "metadata": {
        "id": "Q_YLbd6IRdyL",
        "outputId": "6c47744f-89d2-4390-aed4-11fe2e371596",
        "execution": {
          "iopub.status.busy": "2022-09-09T03:49:31.987857Z",
          "iopub.execute_input": "2022-09-09T03:49:31.988481Z",
          "iopub.status.idle": "2022-09-09T03:49:31.996278Z",
          "shell.execute_reply.started": "2022-09-09T03:49:31.988415Z",
          "shell.execute_reply": "2022-09-09T03:49:31.995519Z"
        },
        "trusted": true
      },
      "execution_count": null,
      "outputs": []
    },
    {
      "cell_type": "code",
      "source": "train2=train1[train1['Out']==1]",
      "metadata": {
        "id": "ckNNYYIfRwQR",
        "execution": {
          "iopub.status.busy": "2022-09-09T03:49:31.997646Z",
          "iopub.execute_input": "2022-09-09T03:49:31.998064Z",
          "iopub.status.idle": "2022-09-09T03:49:32.011437Z",
          "shell.execute_reply.started": "2022-09-09T03:49:31.998017Z",
          "shell.execute_reply": "2022-09-09T03:49:32.010075Z"
        },
        "trusted": true
      },
      "execution_count": null,
      "outputs": []
    },
    {
      "cell_type": "code",
      "source": "train2=train2.drop('Out',axis=1)",
      "metadata": {
        "id": "4pUHgUeWR9j8",
        "execution": {
          "iopub.status.busy": "2022-09-09T03:49:32.013184Z",
          "iopub.execute_input": "2022-09-09T03:49:32.013703Z",
          "iopub.status.idle": "2022-09-09T03:49:32.028092Z",
          "shell.execute_reply.started": "2022-09-09T03:49:32.013647Z",
          "shell.execute_reply": "2022-09-09T03:49:32.026866Z"
        },
        "trusted": true
      },
      "execution_count": null,
      "outputs": []
    },
    {
      "cell_type": "code",
      "source": "from imblearn.over_sampling import SMOTE ",
      "metadata": {
        "id": "u9vCyec6SWqM",
        "execution": {
          "iopub.status.busy": "2022-09-09T03:49:32.029716Z",
          "iopub.execute_input": "2022-09-09T03:49:32.030169Z",
          "iopub.status.idle": "2022-09-09T03:49:32.282635Z",
          "shell.execute_reply.started": "2022-09-09T03:49:32.030124Z",
          "shell.execute_reply": "2022-09-09T03:49:32.281514Z"
        },
        "trusted": true
      },
      "execution_count": null,
      "outputs": []
    },
    {
      "cell_type": "code",
      "source": "oversample = SMOTE()\nfeatures, labels=  oversample.fit_resample(train2.drop([\"Potability\"],axis=1),train2[\"Potability\"])",
      "metadata": {
        "id": "jvTN5dtjS67h",
        "execution": {
          "iopub.status.busy": "2022-09-09T03:49:32.284358Z",
          "iopub.execute_input": "2022-09-09T03:49:32.284742Z",
          "iopub.status.idle": "2022-09-09T03:49:32.307883Z",
          "shell.execute_reply.started": "2022-09-09T03:49:32.284693Z",
          "shell.execute_reply": "2022-09-09T03:49:32.306718Z"
        },
        "trusted": true
      },
      "execution_count": null,
      "outputs": []
    },
    {
      "cell_type": "code",
      "source": "from sklearn.preprocessing import MinMaxScaler",
      "metadata": {
        "id": "QSjUQCBNUT8r",
        "execution": {
          "iopub.status.busy": "2022-09-09T03:49:32.309368Z",
          "iopub.execute_input": "2022-09-09T03:49:32.310261Z",
          "iopub.status.idle": "2022-09-09T03:49:32.315554Z",
          "shell.execute_reply.started": "2022-09-09T03:49:32.310199Z",
          "shell.execute_reply": "2022-09-09T03:49:32.314501Z"
        },
        "trusted": true
      },
      "execution_count": null,
      "outputs": []
    },
    {
      "cell_type": "code",
      "source": "scaler = MinMaxScaler()\nnames = features.columns\nd = scaler.fit_transform(features)\n\nscaled_df = pd.DataFrame(d, columns=names)\nscaled_df.head()",
      "metadata": {
        "id": "pNDokjnUTVZ4",
        "outputId": "350f2c2b-5051-42ed-9c17-1a1931d4857f",
        "execution": {
          "iopub.status.busy": "2022-09-09T03:49:32.317395Z",
          "iopub.execute_input": "2022-09-09T03:49:32.317782Z",
          "iopub.status.idle": "2022-09-09T03:49:32.346183Z",
          "shell.execute_reply.started": "2022-09-09T03:49:32.317735Z",
          "shell.execute_reply": "2022-09-09T03:49:32.345444Z"
        },
        "trusted": true
      },
      "execution_count": null,
      "outputs": []
    },
    {
      "cell_type": "code",
      "source": "from sklearn.ensemble import RandomForestClassifier\nfrom sklearn.neighbors import KNeighborsClassifier\nfrom sklearn import svm\nfrom sklearn.linear_model import LogisticRegression\nfrom sklearn.ensemble import GradientBoostingClassifier\nfrom sklearn.svm import SVC\nfrom sklearn.metrics import accuracy_score\nfrom sklearn.model_selection import train_test_split, GridSearchCV\nimport xgboost as xgb\n\nfrom sklearn.metrics import precision_score,recall_score\nfrom sklearn.metrics import f1_score\nfrom sklearn.metrics import confusion_matrix,accuracy_score, classification_report",
      "metadata": {
        "id": "an-JMGw8UctN",
        "execution": {
          "iopub.status.busy": "2022-09-09T03:49:32.347598Z",
          "iopub.execute_input": "2022-09-09T03:49:32.348379Z",
          "iopub.status.idle": "2022-09-09T03:49:32.464516Z",
          "shell.execute_reply.started": "2022-09-09T03:49:32.34831Z",
          "shell.execute_reply": "2022-09-09T03:49:32.463554Z"
        },
        "trusted": true
      },
      "execution_count": null,
      "outputs": []
    },
    {
      "cell_type": "code",
      "source": "X_train, X_test, y_train, y_test=train_test_split(scaled_df,labels,test_size=0.33,random_state=42)",
      "metadata": {
        "id": "obBjCflEljVO",
        "execution": {
          "iopub.status.busy": "2022-09-09T03:49:32.465857Z",
          "iopub.execute_input": "2022-09-09T03:49:32.466117Z",
          "iopub.status.idle": "2022-09-09T03:49:32.473931Z",
          "shell.execute_reply.started": "2022-09-09T03:49:32.466081Z",
          "shell.execute_reply": "2022-09-09T03:49:32.47293Z"
        },
        "trusted": true
      },
      "execution_count": null,
      "outputs": []
    },
    {
      "cell_type": "code",
      "source": "models = [RandomForestClassifier(), KNeighborsClassifier(), SVC(), LogisticRegression(),xgb.XGBClassifier()]\nscores = dict()\n\nfor m in models:\n    m.fit(X_train, y_train)\n    y_pred = m.predict(X_test)\n\n    print(f'model: {str(m)}')\n    print(classification_report(y_test,y_pred, zero_division=1))\n    print('-'*30, '\\n')",
      "metadata": {
        "id": "n2NCJZ61lpUI",
        "outputId": "45c3cfb8-45e7-430f-ae20-d13382222f0c",
        "execution": {
          "iopub.status.busy": "2022-09-09T03:49:32.47522Z",
          "iopub.execute_input": "2022-09-09T03:49:32.475527Z",
          "iopub.status.idle": "2022-09-09T03:49:35.056823Z",
          "shell.execute_reply.started": "2022-09-09T03:49:32.475478Z",
          "shell.execute_reply": "2022-09-09T03:49:35.05578Z"
        },
        "trusted": true
      },
      "execution_count": null,
      "outputs": []
    },
    {
      "cell_type": "code",
      "source": "!pip install optuna",
      "metadata": {
        "id": "DlyDRizYgfzW",
        "outputId": "19371c8f-c302-46a9-fd5f-e461773d5356",
        "execution": {
          "iopub.status.busy": "2022-09-09T03:49:35.058211Z",
          "iopub.execute_input": "2022-09-09T03:49:35.058632Z",
          "iopub.status.idle": "2022-09-09T03:49:48.182284Z",
          "shell.execute_reply.started": "2022-09-09T03:49:35.058575Z",
          "shell.execute_reply": "2022-09-09T03:49:48.181129Z"
        },
        "_kg_hide-output": true,
        "trusted": true
      },
      "execution_count": null,
      "outputs": []
    },
    {
      "cell_type": "code",
      "source": "import optuna \nfrom optuna import Trial, visualization\nfrom optuna.samplers import TPESampler\nfrom xgboost import XGBClassifier\nfrom sklearn.model_selection import cross_val_score",
      "metadata": {
        "id": "CcDdD-kZo-EC",
        "execution": {
          "iopub.status.busy": "2022-09-09T03:49:48.184194Z",
          "iopub.execute_input": "2022-09-09T03:49:48.184627Z",
          "iopub.status.idle": "2022-09-09T03:49:48.775755Z",
          "shell.execute_reply.started": "2022-09-09T03:49:48.184568Z",
          "shell.execute_reply": "2022-09-09T03:49:48.774691Z"
        },
        "trusted": true
      },
      "execution_count": null,
      "outputs": []
    },
    {
      "cell_type": "code",
      "source": "def objective(trial: Trial,X,y) -> float:\n    \n    param = {\n            'n_estimators' : trial.suggest_int(\"n_estimators\",100,1500),\n            'max_features' : trial.suggest_categorical(\"max_features\",[\"auto\",\"sqrt\"]),\n            'max_depth' : trial.suggest_int(\"max_depth\",5,80,log = True),\n            'min_samples_split' : trial.suggest_int(\"min_samples_split\",2,15),\n            'min_samples_leaf' : trial.suggest_int(\"min_samples_leaf\",1,9),\n            'bootstrap' : trial.suggest_categorical(\"bootstrap\",[True,False])\n            }\n    \n    model = RandomForestClassifier(**param)\n    \n    return cross_val_score(model, X, y, cv=5).mean()",
      "metadata": {
        "id": "b_O_nl4lmHiz",
        "execution": {
          "iopub.status.busy": "2022-09-09T03:49:48.777425Z",
          "iopub.execute_input": "2022-09-09T03:49:48.777716Z",
          "iopub.status.idle": "2022-09-09T03:49:48.78601Z",
          "shell.execute_reply.started": "2022-09-09T03:49:48.777682Z",
          "shell.execute_reply": "2022-09-09T03:49:48.784988Z"
        },
        "trusted": true
      },
      "execution_count": null,
      "outputs": []
    },
    {
      "cell_type": "code",
      "source": "study = optuna.create_study(direction='maximize',sampler=TPESampler())\nstudy.optimize(lambda trial : objective(trial,X_train,y_train),n_trials= 20)",
      "metadata": {
        "id": "sgRUc56yqNOl",
        "outputId": "2db64c40-51ee-4d72-f055-9aff2670dfc7",
        "execution": {
          "iopub.status.busy": "2022-09-09T03:49:48.787526Z",
          "iopub.execute_input": "2022-09-09T03:49:48.787828Z",
          "iopub.status.idle": "2022-09-09T03:58:54.947136Z",
          "shell.execute_reply.started": "2022-09-09T03:49:48.787788Z",
          "shell.execute_reply": "2022-09-09T03:58:54.946118Z"
        },
        "trusted": true
      },
      "execution_count": null,
      "outputs": []
    },
    {
      "cell_type": "code",
      "source": "from optuna import visualization\nprint('Best trial: CV_score= {},\\nparams {}'.format(study.best_trial.value,study.best_trial.params))\nhist = study.trials_dataframe()\nhist.head()",
      "metadata": {
        "id": "3_5eU5eLrWOs",
        "outputId": "582c7617-dcac-4ac6-c2b5-42b5b347f93b",
        "execution": {
          "iopub.status.busy": "2022-09-09T03:58:54.948547Z",
          "iopub.execute_input": "2022-09-09T03:58:54.948903Z",
          "iopub.status.idle": "2022-09-09T03:58:54.977326Z",
          "shell.execute_reply.started": "2022-09-09T03:58:54.948869Z",
          "shell.execute_reply": "2022-09-09T03:58:54.976604Z"
        },
        "trusted": true
      },
      "execution_count": null,
      "outputs": []
    },
    {
      "cell_type": "code",
      "source": "optuna.visualization.plot_slice(study)",
      "metadata": {
        "id": "30CZKny7r18L",
        "outputId": "88761889-456f-46fb-ab0b-ea92005fbc37",
        "execution": {
          "iopub.status.busy": "2022-09-09T03:58:54.97896Z",
          "iopub.execute_input": "2022-09-09T03:58:54.979375Z",
          "iopub.status.idle": "2022-09-09T03:58:55.437794Z",
          "shell.execute_reply.started": "2022-09-09T03:58:54.97934Z",
          "shell.execute_reply": "2022-09-09T03:58:55.436718Z"
        },
        "trusted": true
      },
      "execution_count": null,
      "outputs": []
    },
    {
      "cell_type": "code",
      "source": "optuna.visualization.plot_optimization_history(study)",
      "metadata": {
        "id": "Wg-gCixer1_U",
        "outputId": "70ebf962-3990-4155-ff66-3d6456cf2dad",
        "execution": {
          "iopub.status.busy": "2022-09-09T03:58:55.439445Z",
          "iopub.execute_input": "2022-09-09T03:58:55.439812Z",
          "iopub.status.idle": "2022-09-09T03:58:55.459423Z",
          "shell.execute_reply.started": "2022-09-09T03:58:55.439758Z",
          "shell.execute_reply": "2022-09-09T03:58:55.458609Z"
        },
        "trusted": true
      },
      "execution_count": null,
      "outputs": []
    },
    {
      "cell_type": "code",
      "source": "optuna.visualization.plot_parallel_coordinate(study)",
      "metadata": {
        "id": "1mZrp_05r2CR",
        "outputId": "5c6595eb-9810-438c-f1c4-7550360d57ac",
        "execution": {
          "iopub.status.busy": "2022-09-09T03:58:55.462925Z",
          "iopub.execute_input": "2022-09-09T03:58:55.463175Z",
          "iopub.status.idle": "2022-09-09T03:58:55.527815Z",
          "shell.execute_reply.started": "2022-09-09T03:58:55.463145Z",
          "shell.execute_reply": "2022-09-09T03:58:55.52698Z"
        },
        "trusted": true
      },
      "execution_count": null,
      "outputs": []
    },
    {
      "cell_type": "code",
      "source": "optuna.visualization.plot_param_importances(study)",
      "metadata": {
        "id": "L1J-OIXfr2Fo",
        "outputId": "08ec7264-e580-4bcb-ecd9-ae07a1e65802",
        "execution": {
          "iopub.status.busy": "2022-09-09T03:58:55.529211Z",
          "iopub.execute_input": "2022-09-09T03:58:55.530215Z",
          "iopub.status.idle": "2022-09-09T03:58:55.979652Z",
          "shell.execute_reply.started": "2022-09-09T03:58:55.530148Z",
          "shell.execute_reply": "2022-09-09T03:58:55.978548Z"
        },
        "trusted": true
      },
      "execution_count": null,
      "outputs": []
    },
    {
      "cell_type": "code",
      "source": "Best_trial = study.best_trial.params",
      "metadata": {
        "id": "xmv1SpFusCgJ",
        "execution": {
          "iopub.status.busy": "2022-09-09T03:58:55.981194Z",
          "iopub.execute_input": "2022-09-09T03:58:55.981499Z",
          "iopub.status.idle": "2022-09-09T03:58:55.986686Z",
          "shell.execute_reply.started": "2022-09-09T03:58:55.981441Z",
          "shell.execute_reply": "2022-09-09T03:58:55.985562Z"
        },
        "trusted": true
      },
      "execution_count": null,
      "outputs": []
    },
    {
      "cell_type": "code",
      "source": "best_clf2=RandomForestClassifier(**Best_trial)\nbest_clf2.fit(X_train, y_train)",
      "metadata": {
        "id": "nt8lh0stsGEx",
        "outputId": "ee57584c-1b30-4a8f-c847-e6b6ed54e38a",
        "execution": {
          "iopub.status.busy": "2022-09-09T03:58:55.989396Z",
          "iopub.execute_input": "2022-09-09T03:58:55.990056Z",
          "iopub.status.idle": "2022-09-09T03:58:59.58079Z",
          "shell.execute_reply.started": "2022-09-09T03:58:55.990013Z",
          "shell.execute_reply": "2022-09-09T03:58:59.579706Z"
        },
        "trusted": true
      },
      "execution_count": null,
      "outputs": []
    },
    {
      "cell_type": "code",
      "source": "from sklearn.metrics import confusion_matrix, ConfusionMatrixDisplay",
      "metadata": {
        "id": "665sNcLOvlHF",
        "execution": {
          "iopub.status.busy": "2022-09-09T03:58:59.582397Z",
          "iopub.execute_input": "2022-09-09T03:58:59.582766Z",
          "iopub.status.idle": "2022-09-09T03:58:59.588085Z",
          "shell.execute_reply.started": "2022-09-09T03:58:59.582719Z",
          "shell.execute_reply": "2022-09-09T03:58:59.587175Z"
        },
        "trusted": true
      },
      "execution_count": null,
      "outputs": []
    },
    {
      "cell_type": "code",
      "source": "cm = confusion_matrix(best_clf2.predict(X_test),y_test)\ndisp = ConfusionMatrixDisplay(cm, display_labels=[\"0\",\"1\"])\ndisp.plot()\nplt.title(\"Confusion Matrix\")\nplt.show()",
      "metadata": {
        "id": "7dlIbvtkvmMN",
        "outputId": "a070d722-af78-4774-b6bd-013b121d86eb",
        "execution": {
          "iopub.status.busy": "2022-09-09T03:58:59.589747Z",
          "iopub.execute_input": "2022-09-09T03:58:59.590264Z",
          "iopub.status.idle": "2022-09-09T03:58:59.941794Z",
          "shell.execute_reply.started": "2022-09-09T03:58:59.590216Z",
          "shell.execute_reply": "2022-09-09T03:58:59.940786Z"
        },
        "trusted": true
      },
      "execution_count": null,
      "outputs": []
    },
    {
      "cell_type": "code",
      "source": "feature_importances=best_clf2.feature_importances_\nfeature_importances_df=pd.DataFrame({'features':list(X_train), 'feature_importances':feature_importances})\nfeature_importances_df=pd.DataFrame({'features':list(X_train), 'feature_importances':feature_importances})\nfeature_importances_df.sort_values('feature_importances',ascending=False)",
      "metadata": {
        "id": "1UE5Dzi0vsxB",
        "outputId": "ca8dc8ad-4f57-4a7b-df5f-1241625e267f",
        "execution": {
          "iopub.status.busy": "2022-09-09T03:58:59.943556Z",
          "iopub.execute_input": "2022-09-09T03:58:59.944087Z",
          "iopub.status.idle": "2022-09-09T03:58:59.997448Z",
          "shell.execute_reply.started": "2022-09-09T03:58:59.944038Z",
          "shell.execute_reply": "2022-09-09T03:58:59.996551Z"
        },
        "trusted": true
      },
      "execution_count": null,
      "outputs": []
    }
  ]
}